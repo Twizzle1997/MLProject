{
 "metadata": {
  "language_info": {
   "codemirror_mode": {
    "name": "ipython",
    "version": 3
   },
   "file_extension": ".py",
   "mimetype": "text/x-python",
   "name": "python",
   "nbconvert_exporter": "python",
   "pygments_lexer": "ipython3",
   "version": "3.7.9-final"
  },
  "orig_nbformat": 2,
  "kernelspec": {
   "name": "python3",
   "display_name": "Python 3.7.9 64-bit ('data-science': conda)",
   "metadata": {
    "interpreter": {
     "hash": "d1299f6780e3cbdedf1411f538f089ac858b183dda4c8823b06d05ab627402c9"
    }
   }
  }
 },
 "nbformat": 4,
 "nbformat_minor": 2,
 "cells": [
  {
   "source": [
    "## 0. Import des librairies\n"
   ],
   "cell_type": "markdown",
   "metadata": {}
  },
  {
   "cell_type": "code",
   "execution_count": 2,
   "metadata": {},
   "outputs": [
    {
     "output_type": "stream",
     "name": "stdout",
     "text": [
      "The autoreload extension is already loaded. To reload it, use:\n  %reload_ext autoreload\n"
     ]
    }
   ],
   "source": [
    "%load_ext autoreload\n",
    "%autoreload 2\n",
    "\n",
    "from keras.models import Sequential, load_model\n",
    "from keras.layers import Dense, Dropout, Conv2D, MaxPool2D, Flatten\n",
    "from keras.utils import np_utils\n",
    "from keras.preprocessing.image import ImageDataGenerator\n",
    "from keras.models import Model\n",
    "from keras.preprocessing import image\n",
    "\n",
    "import mlflow\n",
    "import sklearn\n",
    "import numpy as np\n",
    "import matplotlib.pyplot as plt\n",
    "plt.style.use(\"fivethirtyeight\")\n",
    "\n",
    "from src import fonctions"
   ]
  },
  {
   "source": [
    "## 1. Paramétrage de l'application"
   ],
   "cell_type": "markdown",
   "metadata": {}
  },
  {
   "cell_type": "code",
   "execution_count": 7,
   "metadata": {},
   "outputs": [],
   "source": [
    "# Chemins du projet\n",
    "DATA_ROOT = \"data/\"\n",
    "MODELS_ROOT = \"saved_models/\"\n",
    "TRAINING_PATH = DATA_ROOT + \"dataset/train\"\n",
    "TESTING_PATH = DATA_ROOT + \"dataset/test\"\n",
    "DATASET = DATA_ROOT + \"dataset\"\n",
    "\n",
    "# Autres paramètres\n",
    "epochs = 10\n",
    "img_size = 32"
   ]
  },
  {
   "source": [
    "## 2. Chargement des données\n"
   ],
   "cell_type": "markdown",
   "metadata": {}
  },
  {
   "cell_type": "code",
   "execution_count": 4,
   "metadata": {},
   "outputs": [
    {
     "output_type": "stream",
     "name": "stdout",
     "text": [
      "Found 1500 images belonging to 3 classes.\n",
      "Found 300 images belonging to 3 classes.\n"
     ]
    }
   ],
   "source": [
    "# Convertion des futurs images RBG en niveaux de gris (0 == noir, 255 == blanc)\n",
    "train_datagen = ImageDataGenerator(rescale = 1./255)\n",
    "test_datagen = ImageDataGenerator(rescale = 1./255)\n",
    "\n",
    "train_generator = train_datagen.flow_from_directory(directory = TRAINING_PATH, target_size = (img_size,img_size), class_mode = \"categorical\")\n",
    "test_generator = test_datagen.flow_from_directory( directory = TESTING_PATH, target_size = (img_size,img_size), class_mode = \"categorical\")"
   ]
  },
  {
   "source": [
    "## 3. Créations du modèle\n"
   ],
   "cell_type": "markdown",
   "metadata": {}
  },
  {
   "cell_type": "code",
   "execution_count": 5,
   "metadata": {},
   "outputs": [
    {
     "output_type": "stream",
     "name": "stdout",
     "text": [
      "Model: \"sequential_1\"\n_________________________________________________________________\nLayer (type)                 Output Shape              Param #   \n=================================================================\nconv2d_1 (Conv2D)            (None, 32, 32, 50)        1400      \n_________________________________________________________________\nconv2d_2 (Conv2D)            (None, 16, 16, 125)       56375     \n_________________________________________________________________\nmax_pooling2d_1 (MaxPooling2 (None, 8, 8, 125)         0         \n_________________________________________________________________\ndropout_1 (Dropout)          (None, 8, 8, 125)         0         \n_________________________________________________________________\nflatten_1 (Flatten)          (None, 8000)              0         \n_________________________________________________________________\ndense_1 (Dense)              (None, 3)                 24003     \n=================================================================\nTotal params: 81,778\nTrainable params: 81,778\nNon-trainable params: 0\n_________________________________________________________________\n"
     ]
    }
   ],
   "source": [
    "# Création d'un modèle séquentiel qui se résume à une pile linéaire de couches\n",
    "model = Sequential()\n",
    "\n",
    "model.add(Conv2D(50, kernel_size=(3,3), strides=(1,1), padding='same', activation='relu', input_shape=(32, 32, 3)))\n",
    "model.add(Conv2D(125, kernel_size=(3,3), strides=(2,2), padding='same', activation='relu', input_shape=(32, 32, 3)))\n",
    "model.add(MaxPool2D(pool_size=(2,2)))\n",
    "model.add(Dropout(0.25))\n",
    "model.add(Flatten())\n",
    "model.add(Dense(3, activation='softmax'))\n",
    "\n",
    "model.summary()"
   ]
  },
  {
   "source": [
    "## 4. Entraînement du modèle"
   ],
   "cell_type": "markdown",
   "metadata": {}
  },
  {
   "cell_type": "code",
   "execution_count": 8,
   "metadata": {},
   "outputs": [
    {
     "output_type": "stream",
     "name": "stdout",
     "text": [
      "Epoch 1/10\n",
      "47/47 [==============================] - 7s 159ms/step - loss: 0.1099 - accuracy: 0.9613 - val_loss: 0.0355 - val_accuracy: 0.8500\n",
      "Epoch 2/10\n",
      "47/47 [==============================] - 7s 141ms/step - loss: 0.0841 - accuracy: 0.9747 - val_loss: 0.2448 - val_accuracy: 0.8300\n",
      "Epoch 3/10\n",
      "47/47 [==============================] - 6s 131ms/step - loss: 0.0860 - accuracy: 0.9753 - val_loss: 0.1530 - val_accuracy: 0.8600\n",
      "Epoch 4/10\n",
      "47/47 [==============================] - 6s 129ms/step - loss: 0.0743 - accuracy: 0.9760 - val_loss: 0.2740 - val_accuracy: 0.8533\n",
      "Epoch 5/10\n",
      "47/47 [==============================] - 6s 124ms/step - loss: 0.0545 - accuracy: 0.9860 - val_loss: 0.8269 - val_accuracy: 0.8767\n",
      "Epoch 6/10\n",
      "47/47 [==============================] - 6s 121ms/step - loss: 0.0390 - accuracy: 0.9933 - val_loss: 0.5234 - val_accuracy: 0.8600\n",
      "Epoch 7/10\n",
      "47/47 [==============================] - 5s 111ms/step - loss: 0.0401 - accuracy: 0.9887 - val_loss: 0.7136 - val_accuracy: 0.8733\n",
      "Epoch 8/10\n",
      "47/47 [==============================] - 5s 112ms/step - loss: 0.0363 - accuracy: 0.9947 - val_loss: 0.2607 - val_accuracy: 0.8700\n",
      "Epoch 9/10\n",
      "47/47 [==============================] - 6s 123ms/step - loss: 0.0380 - accuracy: 0.9900 - val_loss: 1.0790 - val_accuracy: 0.8567\n",
      "Epoch 10/10\n",
      "47/47 [==============================] - 6s 121ms/step - loss: 0.0434 - accuracy: 0.9880 - val_loss: 0.7255 - val_accuracy: 0.8533\n",
      "Test de perte: 0.005192964803427458\n",
      "Test de précision: 0.9980000257492065\n",
      "\n",
      "Enregistrement du modèle...\n",
      "Modèle enregistré!\n"
     ]
    }
   ],
   "source": [
    "model.compile(loss='categorical_crossentropy', metrics=['accuracy'], optimizer='adam')\n",
    "\n",
    "entrainement = model.fit_generator(train_generator, epochs = epochs, validation_data = test_generator)\n",
    "\n",
    "score = model.evaluate(train_generator, verbose=0)\n",
    "print(\"Test de perte:\", score[0])\n",
    "print(\"Test de précision:\", score[1])\n",
    "print(\"\")\n",
    "print(\"Enregistrement du modèle...\")\n",
    "model.save(MODELS_ROOT + \"model_ML.h5\")\n",
    "print(\"Modèle enregistré!\")"
   ]
  },
  {
   "source": [
    "## 5. Test du modèle"
   ],
   "cell_type": "markdown",
   "metadata": {}
  },
  {
   "cell_type": "code",
   "execution_count": 9,
   "metadata": {},
   "outputs": [
    {
     "output_type": "stream",
     "name": "stdout",
     "text": [
      "\nModèle chargé!\n"
     ]
    },
    {
     "output_type": "display_data",
     "data": {
      "text/plain": "<Figure size 432x288 with 1 Axes>",
      "image/svg+xml": "<?xml version=\"1.0\" encoding=\"utf-8\" standalone=\"no\"?>\r\n<!DOCTYPE svg PUBLIC \"-//W3C//DTD SVG 1.1//EN\"\r\n  \"http://www.w3.org/Graphics/SVG/1.1/DTD/svg11.dtd\">\r\n<!-- Created with matplotlib (https://matplotlib.org/) -->\r\n<svg height=\"266.403281pt\" version=\"1.1\" viewBox=\"0 0 268.995 266.403281\" width=\"268.995pt\" xmlns=\"http://www.w3.org/2000/svg\" xmlns:xlink=\"http://www.w3.org/1999/xlink\">\r\n <metadata>\r\n  <rdf:RDF xmlns:cc=\"http://creativecommons.org/ns#\" xmlns:dc=\"http://purl.org/dc/elements/1.1/\" xmlns:rdf=\"http://www.w3.org/1999/02/22-rdf-syntax-ns#\">\r\n   <cc:Work>\r\n    <dc:type rdf:resource=\"http://purl.org/dc/dcmitype/StillImage\"/>\r\n    <dc:date>2021-01-15T11:24:12.226940</dc:date>\r\n    <dc:format>image/svg+xml</dc:format>\r\n    <dc:creator>\r\n     <cc:Agent>\r\n      <dc:title>Matplotlib v3.3.2, https://matplotlib.org/</dc:title>\r\n     </cc:Agent>\r\n    </dc:creator>\r\n   </cc:Work>\r\n  </rdf:RDF>\r\n </metadata>\r\n <defs>\r\n  <style type=\"text/css\">*{stroke-linecap:butt;stroke-linejoin:round;}</style>\r\n </defs>\r\n <g id=\"figure_1\">\r\n  <g id=\"patch_1\">\r\n   <path d=\"M 0 266.403281 \r\nL 268.995 266.403281 \r\nL 268.995 0 \r\nL 0 0 \r\nz\r\n\" style=\"fill:#f0f0f0;\"/>\r\n  </g>\r\n  <g id=\"axes_1\">\r\n   <g id=\"patch_2\">\r\n    <path d=\"M 28.515 242.153906 \r\nL 261.795 242.153906 \r\nL 261.795 8.873906 \r\nL 28.515 8.873906 \r\nz\r\n\" style=\"fill:#f0f0f0;\"/>\r\n   </g>\r\n   <g clip-path=\"url(#pa7e5efb760)\">\r\n    <image height=\"234\" id=\"imaged11bcf05eb\" transform=\"scale(1 -1)translate(0 -234)\" width=\"234\" x=\"28.515\" xlink:href=\"data:image/png;base64,\r\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\" y=\"-8.153906\"/>\r\n   </g>\r\n   <g id=\"matplotlib.axis_1\">\r\n    <g id=\"xtick_1\">\r\n     <g id=\"line2d_1\">\r\n      <path clip-path=\"url(#pa7e5efb760)\" d=\"M 32.16 242.153906 \r\nL 32.16 8.873906 \r\n\" style=\"fill:none;stroke:#cbcbcb;\"/>\r\n     </g>\r\n     <g id=\"line2d_2\"/>\r\n     <g id=\"text_1\">\r\n      <!-- 0 -->\r\n      <g transform=\"translate(27.70625 256.291719)scale(0.14 -0.14)\">\r\n       <defs>\r\n        <path d=\"M 31.78125 66.40625 \r\nQ 24.171875 66.40625 20.328125 58.90625 \r\nQ 16.5 51.421875 16.5 36.375 \r\nQ 16.5 21.390625 20.328125 13.890625 \r\nQ 24.171875 6.390625 31.78125 6.390625 \r\nQ 39.453125 6.390625 43.28125 13.890625 \r\nQ 47.125 21.390625 47.125 36.375 \r\nQ 47.125 51.421875 43.28125 58.90625 \r\nQ 39.453125 66.40625 31.78125 66.40625 \r\nz\r\nM 31.78125 74.21875 \r\nQ 44.046875 74.21875 50.515625 64.515625 \r\nQ 56.984375 54.828125 56.984375 36.375 \r\nQ 56.984375 17.96875 50.515625 8.265625 \r\nQ 44.046875 -1.421875 31.78125 -1.421875 \r\nQ 19.53125 -1.421875 13.0625 8.265625 \r\nQ 6.59375 17.96875 6.59375 36.375 \r\nQ 6.59375 54.828125 13.0625 64.515625 \r\nQ 19.53125 74.21875 31.78125 74.21875 \r\nz\r\n\" id=\"DejaVuSans-48\"/>\r\n       </defs>\r\n       <use xlink:href=\"#DejaVuSans-48\"/>\r\n      </g>\r\n     </g>\r\n    </g>\r\n    <g id=\"xtick_2\">\r\n     <g id=\"line2d_3\">\r\n      <path clip-path=\"url(#pa7e5efb760)\" d=\"M 105.06 242.153906 \r\nL 105.06 8.873906 \r\n\" style=\"fill:none;stroke:#cbcbcb;\"/>\r\n     </g>\r\n     <g id=\"line2d_4\"/>\r\n     <g id=\"text_2\">\r\n      <!-- 10 -->\r\n      <g transform=\"translate(96.1525 256.291719)scale(0.14 -0.14)\">\r\n       <defs>\r\n        <path d=\"M 12.40625 8.296875 \r\nL 28.515625 8.296875 \r\nL 28.515625 63.921875 \r\nL 10.984375 60.40625 \r\nL 10.984375 69.390625 \r\nL 28.421875 72.90625 \r\nL 38.28125 72.90625 \r\nL 38.28125 8.296875 \r\nL 54.390625 8.296875 \r\nL 54.390625 0 \r\nL 12.40625 0 \r\nz\r\n\" id=\"DejaVuSans-49\"/>\r\n       </defs>\r\n       <use xlink:href=\"#DejaVuSans-49\"/>\r\n       <use x=\"63.623047\" xlink:href=\"#DejaVuSans-48\"/>\r\n      </g>\r\n     </g>\r\n    </g>\r\n    <g id=\"xtick_3\">\r\n     <g id=\"line2d_5\">\r\n      <path clip-path=\"url(#pa7e5efb760)\" d=\"M 177.96 242.153906 \r\nL 177.96 8.873906 \r\n\" style=\"fill:none;stroke:#cbcbcb;\"/>\r\n     </g>\r\n     <g id=\"line2d_6\"/>\r\n     <g id=\"text_3\">\r\n      <!-- 20 -->\r\n      <g transform=\"translate(169.0525 256.291719)scale(0.14 -0.14)\">\r\n       <defs>\r\n        <path d=\"M 19.1875 8.296875 \r\nL 53.609375 8.296875 \r\nL 53.609375 0 \r\nL 7.328125 0 \r\nL 7.328125 8.296875 \r\nQ 12.9375 14.109375 22.625 23.890625 \r\nQ 32.328125 33.6875 34.8125 36.53125 \r\nQ 39.546875 41.84375 41.421875 45.53125 \r\nQ 43.3125 49.21875 43.3125 52.78125 \r\nQ 43.3125 58.59375 39.234375 62.25 \r\nQ 35.15625 65.921875 28.609375 65.921875 \r\nQ 23.96875 65.921875 18.8125 64.3125 \r\nQ 13.671875 62.703125 7.8125 59.421875 \r\nL 7.8125 69.390625 \r\nQ 13.765625 71.78125 18.9375 73 \r\nQ 24.125 74.21875 28.421875 74.21875 \r\nQ 39.75 74.21875 46.484375 68.546875 \r\nQ 53.21875 62.890625 53.21875 53.421875 \r\nQ 53.21875 48.921875 51.53125 44.890625 \r\nQ 49.859375 40.875 45.40625 35.40625 \r\nQ 44.1875 33.984375 37.640625 27.21875 \r\nQ 31.109375 20.453125 19.1875 8.296875 \r\nz\r\n\" id=\"DejaVuSans-50\"/>\r\n       </defs>\r\n       <use xlink:href=\"#DejaVuSans-50\"/>\r\n       <use x=\"63.623047\" xlink:href=\"#DejaVuSans-48\"/>\r\n      </g>\r\n     </g>\r\n    </g>\r\n    <g id=\"xtick_4\">\r\n     <g id=\"line2d_7\">\r\n      <path clip-path=\"url(#pa7e5efb760)\" d=\"M 250.86 242.153906 \r\nL 250.86 8.873906 \r\n\" style=\"fill:none;stroke:#cbcbcb;\"/>\r\n     </g>\r\n     <g id=\"line2d_8\"/>\r\n     <g id=\"text_4\">\r\n      <!-- 30 -->\r\n      <g transform=\"translate(241.9525 256.291719)scale(0.14 -0.14)\">\r\n       <defs>\r\n        <path d=\"M 40.578125 39.3125 \r\nQ 47.65625 37.796875 51.625 33 \r\nQ 55.609375 28.21875 55.609375 21.1875 \r\nQ 55.609375 10.40625 48.1875 4.484375 \r\nQ 40.765625 -1.421875 27.09375 -1.421875 \r\nQ 22.515625 -1.421875 17.65625 -0.515625 \r\nQ 12.796875 0.390625 7.625 2.203125 \r\nL 7.625 11.71875 \r\nQ 11.71875 9.328125 16.59375 8.109375 \r\nQ 21.484375 6.890625 26.8125 6.890625 \r\nQ 36.078125 6.890625 40.9375 10.546875 \r\nQ 45.796875 14.203125 45.796875 21.1875 \r\nQ 45.796875 27.640625 41.28125 31.265625 \r\nQ 36.765625 34.90625 28.71875 34.90625 \r\nL 20.21875 34.90625 \r\nL 20.21875 43.015625 \r\nL 29.109375 43.015625 \r\nQ 36.375 43.015625 40.234375 45.921875 \r\nQ 44.09375 48.828125 44.09375 54.296875 \r\nQ 44.09375 59.90625 40.109375 62.90625 \r\nQ 36.140625 65.921875 28.71875 65.921875 \r\nQ 24.65625 65.921875 20.015625 65.03125 \r\nQ 15.375 64.15625 9.8125 62.3125 \r\nL 9.8125 71.09375 \r\nQ 15.4375 72.65625 20.34375 73.4375 \r\nQ 25.25 74.21875 29.59375 74.21875 \r\nQ 40.828125 74.21875 47.359375 69.109375 \r\nQ 53.90625 64.015625 53.90625 55.328125 \r\nQ 53.90625 49.265625 50.4375 45.09375 \r\nQ 46.96875 40.921875 40.578125 39.3125 \r\nz\r\n\" id=\"DejaVuSans-51\"/>\r\n       </defs>\r\n       <use xlink:href=\"#DejaVuSans-51\"/>\r\n       <use x=\"63.623047\" xlink:href=\"#DejaVuSans-48\"/>\r\n      </g>\r\n     </g>\r\n    </g>\r\n   </g>\r\n   <g id=\"matplotlib.axis_2\">\r\n    <g id=\"ytick_1\">\r\n     <g id=\"line2d_9\">\r\n      <path clip-path=\"url(#pa7e5efb760)\" d=\"M 28.515 12.518906 \r\nL 261.795 12.518906 \r\n\" style=\"fill:none;stroke:#cbcbcb;\"/>\r\n     </g>\r\n     <g id=\"line2d_10\"/>\r\n     <g id=\"text_5\">\r\n      <!-- 0 -->\r\n      <g transform=\"translate(16.1075 17.837812)scale(0.14 -0.14)\">\r\n       <use xlink:href=\"#DejaVuSans-48\"/>\r\n      </g>\r\n     </g>\r\n    </g>\r\n    <g id=\"ytick_2\">\r\n     <g id=\"line2d_11\">\r\n      <path clip-path=\"url(#pa7e5efb760)\" d=\"M 28.515 48.968906 \r\nL 261.795 48.968906 \r\n\" style=\"fill:none;stroke:#cbcbcb;\"/>\r\n     </g>\r\n     <g id=\"line2d_12\"/>\r\n     <g id=\"text_6\">\r\n      <!-- 5 -->\r\n      <g transform=\"translate(16.1075 54.287812)scale(0.14 -0.14)\">\r\n       <defs>\r\n        <path d=\"M 10.796875 72.90625 \r\nL 49.515625 72.90625 \r\nL 49.515625 64.59375 \r\nL 19.828125 64.59375 \r\nL 19.828125 46.734375 \r\nQ 21.96875 47.46875 24.109375 47.828125 \r\nQ 26.265625 48.1875 28.421875 48.1875 \r\nQ 40.625 48.1875 47.75 41.5 \r\nQ 54.890625 34.8125 54.890625 23.390625 \r\nQ 54.890625 11.625 47.5625 5.09375 \r\nQ 40.234375 -1.421875 26.90625 -1.421875 \r\nQ 22.3125 -1.421875 17.546875 -0.640625 \r\nQ 12.796875 0.140625 7.71875 1.703125 \r\nL 7.71875 11.625 \r\nQ 12.109375 9.234375 16.796875 8.0625 \r\nQ 21.484375 6.890625 26.703125 6.890625 \r\nQ 35.15625 6.890625 40.078125 11.328125 \r\nQ 45.015625 15.765625 45.015625 23.390625 \r\nQ 45.015625 31 40.078125 35.4375 \r\nQ 35.15625 39.890625 26.703125 39.890625 \r\nQ 22.75 39.890625 18.8125 39.015625 \r\nQ 14.890625 38.140625 10.796875 36.28125 \r\nz\r\n\" id=\"DejaVuSans-53\"/>\r\n       </defs>\r\n       <use xlink:href=\"#DejaVuSans-53\"/>\r\n      </g>\r\n     </g>\r\n    </g>\r\n    <g id=\"ytick_3\">\r\n     <g id=\"line2d_13\">\r\n      <path clip-path=\"url(#pa7e5efb760)\" d=\"M 28.515 85.418906 \r\nL 261.795 85.418906 \r\n\" style=\"fill:none;stroke:#cbcbcb;\"/>\r\n     </g>\r\n     <g id=\"line2d_14\"/>\r\n     <g id=\"text_7\">\r\n      <!-- 10 -->\r\n      <g transform=\"translate(7.2 90.737812)scale(0.14 -0.14)\">\r\n       <use xlink:href=\"#DejaVuSans-49\"/>\r\n       <use x=\"63.623047\" xlink:href=\"#DejaVuSans-48\"/>\r\n      </g>\r\n     </g>\r\n    </g>\r\n    <g id=\"ytick_4\">\r\n     <g id=\"line2d_15\">\r\n      <path clip-path=\"url(#pa7e5efb760)\" d=\"M 28.515 121.868906 \r\nL 261.795 121.868906 \r\n\" style=\"fill:none;stroke:#cbcbcb;\"/>\r\n     </g>\r\n     <g id=\"line2d_16\"/>\r\n     <g id=\"text_8\">\r\n      <!-- 15 -->\r\n      <g transform=\"translate(7.2 127.187813)scale(0.14 -0.14)\">\r\n       <use xlink:href=\"#DejaVuSans-49\"/>\r\n       <use x=\"63.623047\" xlink:href=\"#DejaVuSans-53\"/>\r\n      </g>\r\n     </g>\r\n    </g>\r\n    <g id=\"ytick_5\">\r\n     <g id=\"line2d_17\">\r\n      <path clip-path=\"url(#pa7e5efb760)\" d=\"M 28.515 158.318906 \r\nL 261.795 158.318906 \r\n\" style=\"fill:none;stroke:#cbcbcb;\"/>\r\n     </g>\r\n     <g id=\"line2d_18\"/>\r\n     <g id=\"text_9\">\r\n      <!-- 20 -->\r\n      <g transform=\"translate(7.2 163.637812)scale(0.14 -0.14)\">\r\n       <use xlink:href=\"#DejaVuSans-50\"/>\r\n       <use x=\"63.623047\" xlink:href=\"#DejaVuSans-48\"/>\r\n      </g>\r\n     </g>\r\n    </g>\r\n    <g id=\"ytick_6\">\r\n     <g id=\"line2d_19\">\r\n      <path clip-path=\"url(#pa7e5efb760)\" d=\"M 28.515 194.768906 \r\nL 261.795 194.768906 \r\n\" style=\"fill:none;stroke:#cbcbcb;\"/>\r\n     </g>\r\n     <g id=\"line2d_20\"/>\r\n     <g id=\"text_10\">\r\n      <!-- 25 -->\r\n      <g transform=\"translate(7.2 200.087813)scale(0.14 -0.14)\">\r\n       <use xlink:href=\"#DejaVuSans-50\"/>\r\n       <use x=\"63.623047\" xlink:href=\"#DejaVuSans-53\"/>\r\n      </g>\r\n     </g>\r\n    </g>\r\n    <g id=\"ytick_7\">\r\n     <g id=\"line2d_21\">\r\n      <path clip-path=\"url(#pa7e5efb760)\" d=\"M 28.515 231.218906 \r\nL 261.795 231.218906 \r\n\" style=\"fill:none;stroke:#cbcbcb;\"/>\r\n     </g>\r\n     <g id=\"line2d_22\"/>\r\n     <g id=\"text_11\">\r\n      <!-- 30 -->\r\n      <g transform=\"translate(7.2 236.537813)scale(0.14 -0.14)\">\r\n       <use xlink:href=\"#DejaVuSans-51\"/>\r\n       <use x=\"63.623047\" xlink:href=\"#DejaVuSans-48\"/>\r\n      </g>\r\n     </g>\r\n    </g>\r\n   </g>\r\n   <g id=\"patch_3\">\r\n    <path d=\"M 28.515 242.153906 \r\nL 28.515 8.873906 \r\n\" style=\"fill:none;stroke:#f0f0f0;stroke-linecap:square;stroke-linejoin:miter;stroke-width:3;\"/>\r\n   </g>\r\n   <g id=\"patch_4\">\r\n    <path d=\"M 261.795 242.153906 \r\nL 261.795 8.873906 \r\n\" style=\"fill:none;stroke:#f0f0f0;stroke-linecap:square;stroke-linejoin:miter;stroke-width:3;\"/>\r\n   </g>\r\n   <g id=\"patch_5\">\r\n    <path d=\"M 28.515 242.153906 \r\nL 261.795 242.153906 \r\n\" style=\"fill:none;stroke:#f0f0f0;stroke-linecap:square;stroke-linejoin:miter;stroke-width:3;\"/>\r\n   </g>\r\n   <g id=\"patch_6\">\r\n    <path d=\"M 28.515 8.873906 \r\nL 261.795 8.873906 \r\n\" style=\"fill:none;stroke:#f0f0f0;stroke-linecap:square;stroke-linejoin:miter;stroke-width:3;\"/>\r\n   </g>\r\n  </g>\r\n </g>\r\n <defs>\r\n  <clipPath id=\"pa7e5efb760\">\r\n   <rect height=\"233.28\" width=\"233.28\" x=\"28.515\" y=\"8.873906\"/>\r\n  </clipPath>\r\n </defs>\r\n</svg>\r\n",
      "image/png": "[encoded data removed]"
     },
     "metadata": {}
    },
    {
     "output_type": "stream",
     "name": "stdout",
     "text": [
      "\nRoulement de tambour...\nPrédictions :\n\nwolf : 99.92 %\ntable : 0.08 %\nrose : 0.0 %\n\n\n"
     ]
    }
   ],
   "source": [
    "# Visualisation de l'image\n",
    "layer_outputs = [layer.output for layer in model.layers]\n",
    "test_image = \"src/images/loup_qui_tue.jpg\"\n",
    "\n",
    "# Le chargement de l'image doit être augmenté puisque notre model prend des lots d'images.\n",
    "img = image.load_img(test_image, target_size=(32,32, 3))\n",
    "img_arr = image.img_to_array(img)\n",
    "img_arr = np.expand_dims(img_arr, axis=0)\n",
    "\n",
    "# Nous testons maintenant notre modèle sur une image\n",
    "fonctions.test_model(\"saved_models/model_ML.h5\",\"src/images/loup_qui_tue.jpg\", DATASET)"
   ]
  },
  {
   "cell_type": "code",
   "execution_count": null,
   "metadata": {},
   "outputs": [],
   "source": []
  }
 ]
}