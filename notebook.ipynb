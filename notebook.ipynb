{
 "metadata": {
  "language_info": {
   "codemirror_mode": {
    "name": "ipython",
    "version": 3
   },
   "file_extension": ".py",
   "mimetype": "text/x-python",
   "name": "python",
   "nbconvert_exporter": "python",
   "pygments_lexer": "ipython3",
   "version": "3.7.9-final"
  },
  "orig_nbformat": 2,
  "kernelspec": {
   "name": "python3",
   "display_name": "Python 3.7.9 64-bit ('data-science': conda)",
   "metadata": {
    "interpreter": {
     "hash": "d1299f6780e3cbdedf1411f538f089ac858b183dda4c8823b06d05ab627402c9"
    }
   }
  }
 },
 "nbformat": 4,
 "nbformat_minor": 2,
 "cells": [
  {
   "source": [
    "## 0. Import des librairies\n"
   ],
   "cell_type": "markdown",
   "metadata": {}
  },
  {
   "cell_type": "code",
   "execution_count": 1,
   "metadata": {},
   "outputs": [
    {
     "output_type": "stream",
     "name": "stderr",
     "text": [
      "Using TensorFlow backend.\n"
     ]
    }
   ],
   "source": [
    "%load_ext autoreload\n",
    "%autoreload 2\n",
    "\n",
    "from keras.preprocessing.image import ImageDataGenerator\n",
    "from src import fonctions"
   ]
  },
  {
   "source": [
    "## 1. Paramétrage de l'application"
   ],
   "cell_type": "markdown",
   "metadata": {}
  },
  {
   "cell_type": "code",
   "execution_count": 2,
   "metadata": {},
   "outputs": [
    {
     "output_type": "stream",
     "name": "stdout",
     "text": [
      "Found 1500 images belonging to 3 classes.\nFound 300 images belonging to 3 classes.\n"
     ]
    }
   ],
   "source": [
    "DATA_ROOT = \"data/\"\n",
    "MODELS_ROOT = \"saved_models/\"\n",
    "TRAINING_PATH = DATA_ROOT + \"dataset/train\"\n",
    "TESTING_PATH = DATA_ROOT + \"dataset/test\"\n",
    "DATASET = DATA_ROOT + \"dataset\"\n",
    "\n",
    "img_size = (32,32)\n",
    "\n",
    "train_datagen = ImageDataGenerator(rescale = 1./255)\n",
    "test_datagen = ImageDataGenerator(rescale = 1./255)\n",
    "\n",
    "train_generator = train_datagen.flow_from_directory(directory = TRAINING_PATH, target_size = img_size, class_mode = \"categorical\")\n",
    "test_generator = test_datagen.flow_from_directory( directory = TESTING_PATH, target_size = img_size, class_mode = \"categorical\")"
   ]
  },
  {
   "source": [
    "## 3. Créations du modèle\n"
   ],
   "cell_type": "markdown",
   "metadata": {}
  },
  {
   "cell_type": "code",
   "execution_count": 3,
   "metadata": {},
   "outputs": [
    {
     "output_type": "stream",
     "name": "stdout",
     "text": [
      "Epoch 1/5\n",
      "47/47 [==============================] - 3s 59ms/step - loss: 0.9161 - accuracy: 0.5660 - val_loss: 0.7806 - val_accuracy: 0.6700\n",
      "Epoch 2/5\n",
      "47/47 [==============================] - 3s 57ms/step - loss: 0.6793 - accuracy: 0.6987 - val_loss: 0.6289 - val_accuracy: 0.6533\n",
      "Epoch 3/5\n",
      "47/47 [==============================] - 3s 59ms/step - loss: 0.6043 - accuracy: 0.7453 - val_loss: 0.4829 - val_accuracy: 0.7267\n",
      "Epoch 4/5\n",
      "47/47 [==============================] - 3s 58ms/step - loss: 0.5685 - accuracy: 0.7680 - val_loss: 0.3455 - val_accuracy: 0.7467\n",
      "Epoch 5/5\n",
      "47/47 [==============================] - 2s 42ms/step - loss: 0.5477 - accuracy: 0.7753 - val_loss: 0.5298 - val_accuracy: 0.7500\n"
     ]
    }
   ],
   "source": [
    "# Autres paramètres\n",
    "kernel = 3\n",
    "stride = 2\n",
    "epochs = 5\n",
    "\n",
    "#Entraînement du modèle et enregistrement mlflow\n",
    "fonctions.training_model(kernel, stride, epochs, train_generator, test_generator, \"model_ML.h5\")\n"
   ]
  },
  {
   "source": [
    "## 5. Test du modèle"
   ],
   "cell_type": "markdown",
   "metadata": {}
  },
  {
   "cell_type": "code",
   "execution_count": 4,
   "metadata": {},
   "outputs": [
    {
     "output_type": "stream",
     "name": "stdout",
     "text": [
      "\nModèle chargé!\n"
     ]
    },
    {
     "output_type": "display_data",
     "data": {
      "text/plain": "<Figure size 432x288 with 1 Axes>",
      "image/svg+xml": "<?xml version=\"1.0\" encoding=\"utf-8\" standalone=\"no\"?>\r\n<!DOCTYPE svg PUBLIC \"-//W3C//DTD SVG 1.1//EN\"\r\n  \"http://www.w3.org/Graphics/SVG/1.1/DTD/svg11.dtd\">\r\n<!-- Created with matplotlib (https://matplotlib.org/) -->\r\n<svg height=\"248.919844pt\" version=\"1.1\" viewBox=\"0 0 251.565 248.919844\" width=\"251.565pt\" xmlns=\"http://www.w3.org/2000/svg\" xmlns:xlink=\"http://www.w3.org/1999/xlink\">\r\n <metadata>\r\n  <rdf:RDF xmlns:cc=\"http://creativecommons.org/ns#\" xmlns:dc=\"http://purl.org/dc/elements/1.1/\" xmlns:rdf=\"http://www.w3.org/1999/02/22-rdf-syntax-ns#\">\r\n   <cc:Work>\r\n    <dc:type rdf:resource=\"http://purl.org/dc/dcmitype/StillImage\"/>\r\n    <dc:date>2021-01-15T15:57:54.502827</dc:date>\r\n    <dc:format>image/svg+xml</dc:format>\r\n    <dc:creator>\r\n     <cc:Agent>\r\n      <dc:title>Matplotlib v3.3.2, https://matplotlib.org/</dc:title>\r\n     </cc:Agent>\r\n    </dc:creator>\r\n   </cc:Work>\r\n  </rdf:RDF>\r\n </metadata>\r\n <defs>\r\n  <style type=\"text/css\">*{stroke-linecap:butt;stroke-linejoin:round;}</style>\r\n </defs>\r\n <g id=\"figure_1\">\r\n  <g id=\"patch_1\">\r\n   <path d=\"M 0 248.919844 \r\nL 251.565 248.919844 \r\nL 251.565 0 \r\nL 0 0 \r\nz\r\n\" style=\"fill:none;\"/>\r\n  </g>\r\n  <g id=\"axes_1\">\r\n   <g id=\"patch_2\">\r\n    <path d=\"M 26.925 225.041719 \r\nL 244.365 225.041719 \r\nL 244.365 7.601719 \r\nL 26.925 7.601719 \r\nz\r\n\" style=\"fill:#ffffff;\"/>\r\n   </g>\r\n   <g clip-path=\"url(#pae2286e0d3)\">\r\n    <image height=\"218\" id=\"image5427dba04d\" transform=\"scale(1 -1)translate(0 -218)\" width=\"218\" x=\"26.925\" xlink:href=\"data:image/png;base64,\r\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\" y=\"-7.041719\"/>\r\n   </g>\r\n   <g id=\"matplotlib.axis_1\">\r\n    <g id=\"xtick_1\">\r\n     <g id=\"line2d_1\">\r\n      <defs>\r\n       <path d=\"M 0 0 \r\nL 0 3.5 \r\n\" id=\"m7c24db2c87\" style=\"stroke:#000000;stroke-width:0.8;\"/>\r\n      </defs>\r\n      <g>\r\n       <use style=\"stroke:#000000;stroke-width:0.8;\" x=\"30.3225\" xlink:href=\"#m7c24db2c87\" y=\"225.041719\"/>\r\n      </g>\r\n     </g>\r\n     <g id=\"text_1\">\r\n      <!-- 0 -->\r\n      <g transform=\"translate(27.14125 239.640156)scale(0.1 -0.1)\">\r\n       <defs>\r\n        <path d=\"M 31.78125 66.40625 \r\nQ 24.171875 66.40625 20.328125 58.90625 \r\nQ 16.5 51.421875 16.5 36.375 \r\nQ 16.5 21.390625 20.328125 13.890625 \r\nQ 24.171875 6.390625 31.78125 6.390625 \r\nQ 39.453125 6.390625 43.28125 13.890625 \r\nQ 47.125 21.390625 47.125 36.375 \r\nQ 47.125 51.421875 43.28125 58.90625 \r\nQ 39.453125 66.40625 31.78125 66.40625 \r\nz\r\nM 31.78125 74.21875 \r\nQ 44.046875 74.21875 50.515625 64.515625 \r\nQ 56.984375 54.828125 56.984375 36.375 \r\nQ 56.984375 17.96875 50.515625 8.265625 \r\nQ 44.046875 -1.421875 31.78125 -1.421875 \r\nQ 19.53125 -1.421875 13.0625 8.265625 \r\nQ 6.59375 17.96875 6.59375 36.375 \r\nQ 6.59375 54.828125 13.0625 64.515625 \r\nQ 19.53125 74.21875 31.78125 74.21875 \r\nz\r\n\" id=\"DejaVuSans-48\"/>\r\n       </defs>\r\n       <use xlink:href=\"#DejaVuSans-48\"/>\r\n      </g>\r\n     </g>\r\n    </g>\r\n    <g id=\"xtick_2\">\r\n     <g id=\"line2d_2\">\r\n      <g>\r\n       <use style=\"stroke:#000000;stroke-width:0.8;\" x=\"64.2975\" xlink:href=\"#m7c24db2c87\" y=\"225.041719\"/>\r\n      </g>\r\n     </g>\r\n     <g id=\"text_2\">\r\n      <!-- 5 -->\r\n      <g transform=\"translate(61.11625 239.640156)scale(0.1 -0.1)\">\r\n       <defs>\r\n        <path d=\"M 10.796875 72.90625 \r\nL 49.515625 72.90625 \r\nL 49.515625 64.59375 \r\nL 19.828125 64.59375 \r\nL 19.828125 46.734375 \r\nQ 21.96875 47.46875 24.109375 47.828125 \r\nQ 26.265625 48.1875 28.421875 48.1875 \r\nQ 40.625 48.1875 47.75 41.5 \r\nQ 54.890625 34.8125 54.890625 23.390625 \r\nQ 54.890625 11.625 47.5625 5.09375 \r\nQ 40.234375 -1.421875 26.90625 -1.421875 \r\nQ 22.3125 -1.421875 17.546875 -0.640625 \r\nQ 12.796875 0.140625 7.71875 1.703125 \r\nL 7.71875 11.625 \r\nQ 12.109375 9.234375 16.796875 8.0625 \r\nQ 21.484375 6.890625 26.703125 6.890625 \r\nQ 35.15625 6.890625 40.078125 11.328125 \r\nQ 45.015625 15.765625 45.015625 23.390625 \r\nQ 45.015625 31 40.078125 35.4375 \r\nQ 35.15625 39.890625 26.703125 39.890625 \r\nQ 22.75 39.890625 18.8125 39.015625 \r\nQ 14.890625 38.140625 10.796875 36.28125 \r\nz\r\n\" id=\"DejaVuSans-53\"/>\r\n       </defs>\r\n       <use xlink:href=\"#DejaVuSans-53\"/>\r\n      </g>\r\n     </g>\r\n    </g>\r\n    <g id=\"xtick_3\">\r\n     <g id=\"line2d_3\">\r\n      <g>\r\n       <use style=\"stroke:#000000;stroke-width:0.8;\" x=\"98.2725\" xlink:href=\"#m7c24db2c87\" y=\"225.041719\"/>\r\n      </g>\r\n     </g>\r\n     <g id=\"text_3\">\r\n      <!-- 10 -->\r\n      <g transform=\"translate(91.91 239.640156)scale(0.1 -0.1)\">\r\n       <defs>\r\n        <path d=\"M 12.40625 8.296875 \r\nL 28.515625 8.296875 \r\nL 28.515625 63.921875 \r\nL 10.984375 60.40625 \r\nL 10.984375 69.390625 \r\nL 28.421875 72.90625 \r\nL 38.28125 72.90625 \r\nL 38.28125 8.296875 \r\nL 54.390625 8.296875 \r\nL 54.390625 0 \r\nL 12.40625 0 \r\nz\r\n\" id=\"DejaVuSans-49\"/>\r\n       </defs>\r\n       <use xlink:href=\"#DejaVuSans-49\"/>\r\n       <use x=\"63.623047\" xlink:href=\"#DejaVuSans-48\"/>\r\n      </g>\r\n     </g>\r\n    </g>\r\n    <g id=\"xtick_4\">\r\n     <g id=\"line2d_4\">\r\n      <g>\r\n       <use style=\"stroke:#000000;stroke-width:0.8;\" x=\"132.2475\" xlink:href=\"#m7c24db2c87\" y=\"225.041719\"/>\r\n      </g>\r\n     </g>\r\n     <g id=\"text_4\">\r\n      <!-- 15 -->\r\n      <g transform=\"translate(125.885 239.640156)scale(0.1 -0.1)\">\r\n       <use xlink:href=\"#DejaVuSans-49\"/>\r\n       <use x=\"63.623047\" xlink:href=\"#DejaVuSans-53\"/>\r\n      </g>\r\n     </g>\r\n    </g>\r\n    <g id=\"xtick_5\">\r\n     <g id=\"line2d_5\">\r\n      <g>\r\n       <use style=\"stroke:#000000;stroke-width:0.8;\" x=\"166.2225\" xlink:href=\"#m7c24db2c87\" y=\"225.041719\"/>\r\n      </g>\r\n     </g>\r\n     <g id=\"text_5\">\r\n      <!-- 20 -->\r\n      <g transform=\"translate(159.86 239.640156)scale(0.1 -0.1)\">\r\n       <defs>\r\n        <path d=\"M 19.1875 8.296875 \r\nL 53.609375 8.296875 \r\nL 53.609375 0 \r\nL 7.328125 0 \r\nL 7.328125 8.296875 \r\nQ 12.9375 14.109375 22.625 23.890625 \r\nQ 32.328125 33.6875 34.8125 36.53125 \r\nQ 39.546875 41.84375 41.421875 45.53125 \r\nQ 43.3125 49.21875 43.3125 52.78125 \r\nQ 43.3125 58.59375 39.234375 62.25 \r\nQ 35.15625 65.921875 28.609375 65.921875 \r\nQ 23.96875 65.921875 18.8125 64.3125 \r\nQ 13.671875 62.703125 7.8125 59.421875 \r\nL 7.8125 69.390625 \r\nQ 13.765625 71.78125 18.9375 73 \r\nQ 24.125 74.21875 28.421875 74.21875 \r\nQ 39.75 74.21875 46.484375 68.546875 \r\nQ 53.21875 62.890625 53.21875 53.421875 \r\nQ 53.21875 48.921875 51.53125 44.890625 \r\nQ 49.859375 40.875 45.40625 35.40625 \r\nQ 44.1875 33.984375 37.640625 27.21875 \r\nQ 31.109375 20.453125 19.1875 8.296875 \r\nz\r\n\" id=\"DejaVuSans-50\"/>\r\n       </defs>\r\n       <use xlink:href=\"#DejaVuSans-50\"/>\r\n       <use x=\"63.623047\" xlink:href=\"#DejaVuSans-48\"/>\r\n      </g>\r\n     </g>\r\n    </g>\r\n    <g id=\"xtick_6\">\r\n     <g id=\"line2d_6\">\r\n      <g>\r\n       <use style=\"stroke:#000000;stroke-width:0.8;\" x=\"200.1975\" xlink:href=\"#m7c24db2c87\" y=\"225.041719\"/>\r\n      </g>\r\n     </g>\r\n     <g id=\"text_6\">\r\n      <!-- 25 -->\r\n      <g transform=\"translate(193.835 239.640156)scale(0.1 -0.1)\">\r\n       <use xlink:href=\"#DejaVuSans-50\"/>\r\n       <use x=\"63.623047\" xlink:href=\"#DejaVuSans-53\"/>\r\n      </g>\r\n     </g>\r\n    </g>\r\n    <g id=\"xtick_7\">\r\n     <g id=\"line2d_7\">\r\n      <g>\r\n       <use style=\"stroke:#000000;stroke-width:0.8;\" x=\"234.1725\" xlink:href=\"#m7c24db2c87\" y=\"225.041719\"/>\r\n      </g>\r\n     </g>\r\n     <g id=\"text_7\">\r\n      <!-- 30 -->\r\n      <g transform=\"translate(227.81 239.640156)scale(0.1 -0.1)\">\r\n       <defs>\r\n        <path d=\"M 40.578125 39.3125 \r\nQ 47.65625 37.796875 51.625 33 \r\nQ 55.609375 28.21875 55.609375 21.1875 \r\nQ 55.609375 10.40625 48.1875 4.484375 \r\nQ 40.765625 -1.421875 27.09375 -1.421875 \r\nQ 22.515625 -1.421875 17.65625 -0.515625 \r\nQ 12.796875 0.390625 7.625 2.203125 \r\nL 7.625 11.71875 \r\nQ 11.71875 9.328125 16.59375 8.109375 \r\nQ 21.484375 6.890625 26.8125 6.890625 \r\nQ 36.078125 6.890625 40.9375 10.546875 \r\nQ 45.796875 14.203125 45.796875 21.1875 \r\nQ 45.796875 27.640625 41.28125 31.265625 \r\nQ 36.765625 34.90625 28.71875 34.90625 \r\nL 20.21875 34.90625 \r\nL 20.21875 43.015625 \r\nL 29.109375 43.015625 \r\nQ 36.375 43.015625 40.234375 45.921875 \r\nQ 44.09375 48.828125 44.09375 54.296875 \r\nQ 44.09375 59.90625 40.109375 62.90625 \r\nQ 36.140625 65.921875 28.71875 65.921875 \r\nQ 24.65625 65.921875 20.015625 65.03125 \r\nQ 15.375 64.15625 9.8125 62.3125 \r\nL 9.8125 71.09375 \r\nQ 15.4375 72.65625 20.34375 73.4375 \r\nQ 25.25 74.21875 29.59375 74.21875 \r\nQ 40.828125 74.21875 47.359375 69.109375 \r\nQ 53.90625 64.015625 53.90625 55.328125 \r\nQ 53.90625 49.265625 50.4375 45.09375 \r\nQ 46.96875 40.921875 40.578125 39.3125 \r\nz\r\n\" id=\"DejaVuSans-51\"/>\r\n       </defs>\r\n       <use xlink:href=\"#DejaVuSans-51\"/>\r\n       <use x=\"63.623047\" xlink:href=\"#DejaVuSans-48\"/>\r\n      </g>\r\n     </g>\r\n    </g>\r\n   </g>\r\n   <g id=\"matplotlib.axis_2\">\r\n    <g id=\"ytick_1\">\r\n     <g id=\"line2d_8\">\r\n      <defs>\r\n       <path d=\"M 0 0 \r\nL -3.5 0 \r\n\" id=\"mbae83fb987\" style=\"stroke:#000000;stroke-width:0.8;\"/>\r\n      </defs>\r\n      <g>\r\n       <use style=\"stroke:#000000;stroke-width:0.8;\" x=\"26.925\" xlink:href=\"#mbae83fb987\" y=\"10.999219\"/>\r\n      </g>\r\n     </g>\r\n     <g id=\"text_8\">\r\n      <!-- 0 -->\r\n      <g transform=\"translate(13.5625 14.798437)scale(0.1 -0.1)\">\r\n       <use xlink:href=\"#DejaVuSans-48\"/>\r\n      </g>\r\n     </g>\r\n    </g>\r\n    <g id=\"ytick_2\">\r\n     <g id=\"line2d_9\">\r\n      <g>\r\n       <use style=\"stroke:#000000;stroke-width:0.8;\" x=\"26.925\" xlink:href=\"#mbae83fb987\" y=\"44.974219\"/>\r\n      </g>\r\n     </g>\r\n     <g id=\"text_9\">\r\n      <!-- 5 -->\r\n      <g transform=\"translate(13.5625 48.773437)scale(0.1 -0.1)\">\r\n       <use xlink:href=\"#DejaVuSans-53\"/>\r\n      </g>\r\n     </g>\r\n    </g>\r\n    <g id=\"ytick_3\">\r\n     <g id=\"line2d_10\">\r\n      <g>\r\n       <use style=\"stroke:#000000;stroke-width:0.8;\" x=\"26.925\" xlink:href=\"#mbae83fb987\" y=\"78.949219\"/>\r\n      </g>\r\n     </g>\r\n     <g id=\"text_10\">\r\n      <!-- 10 -->\r\n      <g transform=\"translate(7.2 82.748437)scale(0.1 -0.1)\">\r\n       <use xlink:href=\"#DejaVuSans-49\"/>\r\n       <use x=\"63.623047\" xlink:href=\"#DejaVuSans-48\"/>\r\n      </g>\r\n     </g>\r\n    </g>\r\n    <g id=\"ytick_4\">\r\n     <g id=\"line2d_11\">\r\n      <g>\r\n       <use style=\"stroke:#000000;stroke-width:0.8;\" x=\"26.925\" xlink:href=\"#mbae83fb987\" y=\"112.924219\"/>\r\n      </g>\r\n     </g>\r\n     <g id=\"text_11\">\r\n      <!-- 15 -->\r\n      <g transform=\"translate(7.2 116.723437)scale(0.1 -0.1)\">\r\n       <use xlink:href=\"#DejaVuSans-49\"/>\r\n       <use x=\"63.623047\" xlink:href=\"#DejaVuSans-53\"/>\r\n      </g>\r\n     </g>\r\n    </g>\r\n    <g id=\"ytick_5\">\r\n     <g id=\"line2d_12\">\r\n      <g>\r\n       <use style=\"stroke:#000000;stroke-width:0.8;\" x=\"26.925\" xlink:href=\"#mbae83fb987\" y=\"146.899219\"/>\r\n      </g>\r\n     </g>\r\n     <g id=\"text_12\">\r\n      <!-- 20 -->\r\n      <g transform=\"translate(7.2 150.698437)scale(0.1 -0.1)\">\r\n       <use xlink:href=\"#DejaVuSans-50\"/>\r\n       <use x=\"63.623047\" xlink:href=\"#DejaVuSans-48\"/>\r\n      </g>\r\n     </g>\r\n    </g>\r\n    <g id=\"ytick_6\">\r\n     <g id=\"line2d_13\">\r\n      <g>\r\n       <use style=\"stroke:#000000;stroke-width:0.8;\" x=\"26.925\" xlink:href=\"#mbae83fb987\" y=\"180.874219\"/>\r\n      </g>\r\n     </g>\r\n     <g id=\"text_13\">\r\n      <!-- 25 -->\r\n      <g transform=\"translate(7.2 184.673437)scale(0.1 -0.1)\">\r\n       <use xlink:href=\"#DejaVuSans-50\"/>\r\n       <use x=\"63.623047\" xlink:href=\"#DejaVuSans-53\"/>\r\n      </g>\r\n     </g>\r\n    </g>\r\n    <g id=\"ytick_7\">\r\n     <g id=\"line2d_14\">\r\n      <g>\r\n       <use style=\"stroke:#000000;stroke-width:0.8;\" x=\"26.925\" xlink:href=\"#mbae83fb987\" y=\"214.849219\"/>\r\n      </g>\r\n     </g>\r\n     <g id=\"text_14\">\r\n      <!-- 30 -->\r\n      <g transform=\"translate(7.2 218.648437)scale(0.1 -0.1)\">\r\n       <use xlink:href=\"#DejaVuSans-51\"/>\r\n       <use x=\"63.623047\" xlink:href=\"#DejaVuSans-48\"/>\r\n      </g>\r\n     </g>\r\n    </g>\r\n   </g>\r\n   <g id=\"patch_3\">\r\n    <path d=\"M 26.925 225.041719 \r\nL 26.925 7.601719 \r\n\" style=\"fill:none;stroke:#000000;stroke-linecap:square;stroke-linejoin:miter;stroke-width:0.8;\"/>\r\n   </g>\r\n   <g id=\"patch_4\">\r\n    <path d=\"M 244.365 225.041719 \r\nL 244.365 7.601719 \r\n\" style=\"fill:none;stroke:#000000;stroke-linecap:square;stroke-linejoin:miter;stroke-width:0.8;\"/>\r\n   </g>\r\n   <g id=\"patch_5\">\r\n    <path d=\"M 26.925 225.041719 \r\nL 244.365 225.041719 \r\n\" style=\"fill:none;stroke:#000000;stroke-linecap:square;stroke-linejoin:miter;stroke-width:0.8;\"/>\r\n   </g>\r\n   <g id=\"patch_6\">\r\n    <path d=\"M 26.925 7.601719 \r\nL 244.365 7.601719 \r\n\" style=\"fill:none;stroke:#000000;stroke-linecap:square;stroke-linejoin:miter;stroke-width:0.8;\"/>\r\n   </g>\r\n  </g>\r\n </g>\r\n <defs>\r\n  <clipPath id=\"pae2286e0d3\">\r\n   <rect height=\"217.44\" width=\"217.44\" x=\"26.925\" y=\"7.601719\"/>\r\n  </clipPath>\r\n </defs>\r\n</svg>\r\n",
      "image/png": "[encoded data removed]"
     },
     "metadata": {
      "needs_background": "light"
     }
    },
    {
     "output_type": "stream",
     "name": "stdout",
     "text": [
      "\nRoulement de tambour...\nPrédictions :\n\nwolf : 58.14 %\ntable : 33.24 %\nrose : 8.62 %\n\n\n"
     ]
    }
   ],
   "source": [
    "# Nous testons maintenant notre modèle sur une image\n",
    "fonctions.test_model(\"saved_models/model_ML.h5\",\"src/images/loup_qui_tue.jpg\", DATASET)"
   ]
  },
  {
   "cell_type": "code",
   "execution_count": null,
   "metadata": {},
   "outputs": [],
   "source": []
  }
 ]
}